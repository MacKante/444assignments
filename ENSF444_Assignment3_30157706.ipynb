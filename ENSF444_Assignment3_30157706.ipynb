{
  "cells": [
    {
      "cell_type": "markdown",
      "id": "CNDKREiQRJJX",
      "metadata": {
        "id": "CNDKREiQRJJX"
      },
      "source": [
        "<font size=\"+3\"><b>Assignment 3: Non-Linear Models and Validation Metrics</b></font>\n",
        "\n",
        "***\n",
        "* **Full Name** = Nathan Ante   \n",
        "* **UCID** = 30157706\n",
        "***"
      ]
    },
    {
      "cell_type": "markdown",
      "id": "ce31b39a",
      "metadata": {
        "id": "ce31b39a"
      },
      "source": [
        "<font color='Blue'>\n",
        "In this assignment, you will need to write code that uses non-linear models to perform classification and regression tasks. You will also be asked to describe the process by which you came up with the code. More details can be found below. Please cite any websites or AI tools that you used to help you with this assignment.\n",
        "</font>\n",
        "\n",
        "|                **Question**                | **Point** |\n",
        "|:------------------------------------------:|:---------:|\n",
        "|           **Part 1: Regression**           |  **14.5** |\n",
        "|          Step 0: Import Libraries          |           |\n",
        "|             Step 1: Data Input             |    0.5    |\n",
        "|           Step 2: Data Processing          |     0     |\n",
        "| Step 3: Implement   Machine Learning Model |    0.5    |\n",
        "|           Step 4: Validate Model           |    0.5    |\n",
        "|         Step 5: Visualize   Results        |     3     |\n",
        "|                  Questions                 |     6     |\n",
        "|             Process Description            |     4     |\n",
        "|         **Part 2: Classification**         |  **17.5** |\n",
        "|             Step 1: Data Input             |     2     |\n",
        "|           Step 2: Data Processing          |    1.5    |\n",
        "| Step 3: Implement   Machine Learning Model |           |\n",
        "|            Step 4: Validate Mode           |           |\n",
        "|         Step 5: Visualize   Results        |     4     |\n",
        "|                  Questions                 |     6     |\n",
        "|             Process Description            |     4     |\n",
        "|   **Part 3: Observations/Interpretation**  |   **3**   |\n",
        "|           **Part 4: Reflection**           |   **2**   |\n",
        "|                  **Total**                 |   **37**  |\n",
        "|                                            |           |\n",
        "|                  **Bonus**                 |           |\n",
        "|         **Part 5: Bonus Question**         |   **3**   |"
      ]
    },
    {
      "cell_type": "markdown",
      "id": "cf275ca7",
      "metadata": {
        "id": "cf275ca7"
      },
      "source": [
        "### Import Libraries"
      ]
    },
    {
      "cell_type": "code",
      "execution_count": 1,
      "id": "2b67a661",
      "metadata": {
        "id": "2b67a661"
      },
      "outputs": [
        {
          "name": "stderr",
          "output_type": "stream",
          "text": [
            "C:\\Users\\Macante\\AppData\\Local\\Temp\\ipykernel_20920\\265554930.py:2: DeprecationWarning: \n",
            "Pyarrow will become a required dependency of pandas in the next major release of pandas (pandas 3.0),\n",
            "(to allow more performant data types, such as the Arrow string type, and better interoperability with other libraries)\n",
            "but was not found to be installed on your system.\n",
            "If this would cause problems for you,\n",
            "please provide us feedback at https://github.com/pandas-dev/pandas/issues/54466\n",
            "        \n",
            "  import pandas as pd\n"
          ]
        }
      ],
      "source": [
        "import numpy as np\n",
        "import pandas as pd\n",
        "import matplotlib.pyplot as plt\n",
        "import seaborn as sns"
      ]
    },
    {
      "cell_type": "markdown",
      "id": "5ee2d2c3",
      "metadata": {
        "id": "5ee2d2c3"
      },
      "source": [
        "# **Part 1: Regression (14.5 marks)**\n",
        "\n",
        "For this section, we will be continuing with the concrete example from yellowbrick. You will need to compare these results to the results from the previous assignment. Please use the results from the solution if you were unable to complete Assignment 2"
      ]
    },
    {
      "cell_type": "markdown",
      "id": "8219f163",
      "metadata": {
        "id": "8219f163"
      },
      "source": [
        "## **Step 1:** Data Input (0.5 marks)\n",
        "\n",
        "The data used for this task can be downloaded using the yellowbrick library:\n",
        "https://www.scikit-yb.org/en/latest/api/datasets/concrete.html\n",
        "\n",
        "Use the yellowbrick function `load_concrete()` to load the concrete dataset into the feature matrix `X` and target vector `y`."
      ]
    },
    {
      "cell_type": "code",
      "execution_count": 2,
      "id": "2af8bd32",
      "metadata": {
        "id": "2af8bd32"
      },
      "outputs": [],
      "source": [
        "# TO DO: Import concrete dataset from yellowbrick library\n",
        "from yellowbrick.datasets import load_concrete\n",
        "X, y = load_concrete()"
      ]
    },
    {
      "cell_type": "markdown",
      "id": "42fea4cc",
      "metadata": {
        "id": "42fea4cc"
      },
      "source": [
        "## **Step 2:** Data Processing (0 marks)\n",
        "\n",
        "Data processing was completed in the previous assignment. No need to repeat here.\n",
        "\n",
        "<font color='red'>\n",
        "This is just for your information and no action is required from you for this step.\n",
        "</font>"
      ]
    },
    {
      "cell_type": "markdown",
      "id": "2a245d00",
      "metadata": {
        "id": "2a245d00"
      },
      "source": [
        "## **Step 3:** Implement Machine Learning Model (0.5 marks)\n",
        "\n",
        "1. Import the Decision Tree, Random Forest and Gradient Boosting Machines regression models from sklearn\n",
        "2. Instantiate the three models with `max_depth = 5`. Are there any other parameters that you will need to set?\n",
        "3. Implement each machine learning model with `X` and `y`"
      ]
    },
    {
      "cell_type": "markdown",
      "id": "3f994e31",
      "metadata": {
        "id": "3f994e31"
      },
      "source": [
        "## **Step 4:** Validate Model (0.5 marks)\n",
        "\n",
        "Calculate the average training and validation accuracy using mean squared error with cross-validation. To do this, you will need to set `scoring='neg_mean_squared_error'` in your `cross_validate` function and negate the results (multiply by -1)"
      ]
    },
    {
      "cell_type": "markdown",
      "id": "5fc3f7a8",
      "metadata": {
        "id": "5fc3f7a8"
      },
      "source": [
        "## **Step 5:** Visualize Results (3 marks)\n",
        "\n",
        "1. Create a pandas DataFrame `results` with columns: Training accuracy and Validation accuracy, and index: DT, RF and GB\n",
        "2. Add the accuracy results to the `results` DataFrame\n",
        "3. Print `results`"
      ]
    },
    {
      "cell_type": "code",
      "execution_count": 3,
      "id": "fdc93a78",
      "metadata": {
        "id": "fdc93a78"
      },
      "outputs": [
        {
          "name": "stdout",
          "output_type": "stream",
          "text": [
            "Mean Square Error Score\n",
            "    Training Accuracy  Validation Accuracy\n",
            "DT          47.918561           163.087775\n",
            "RF          32.055432           156.404972\n",
            "GB           3.739270            99.360259\n"
          ]
        }
      ],
      "source": [
        "# TO DO: ADD YOUR CODE HERE FOR STEPS 3-5\n",
        "# Note: for any random state parameters, you can use random_state = 0\n",
        "# HINT: USING A LOOP TO STORE THE DATA IN YOUR RESULTS DATAFRAME WILL BE MORE EFFICIENT\n",
        "\n",
        "# Imports\n",
        "from sklearn.tree import DecisionTreeRegressor\n",
        "from sklearn.ensemble import RandomForestRegressor, GradientBoostingRegressor\n",
        "from sklearn.model_selection import train_test_split, cross_validate\n",
        "\n",
        "# Split the training and test sets\n",
        "X_train, X_test, y_train, y_test = train_test_split(X, y, test_size=0.2, random_state=0)\n",
        "\n",
        "# Regression Models\n",
        "dtr = DecisionTreeRegressor(max_depth=5, random_state=0)\n",
        "rfr = RandomForestRegressor(max_depth=5, random_state=0)\n",
        "gbr = GradientBoostingRegressor(max_depth=5, random_state=0)\n",
        "\n",
        "# List of models to iterate through in loop\n",
        "regression_models = [dtr, rfr, gbr]\n",
        "indexes = ['DT', 'RF', 'GB']\n",
        "\n",
        "# Results dataframe\n",
        "results = pd.DataFrame(columns=[\"Training Accuracy\", \"Validation Accuracy\"])\n",
        "\n",
        "for i in range(3):\n",
        "    cv_results = cross_validate(regression_models[i], X, y, scoring='neg_mean_squared_error', return_train_score=True, cv=5)\n",
        "    results.loc[f'{indexes[i]}'] = [-cv_results['train_score'].mean(), -cv_results['test_score'].mean()]\n",
        "\n",
        "print('Mean Square Error Score')\n",
        "print(results)"
      ]
    },
    {
      "cell_type": "markdown",
      "id": "31715a9d",
      "metadata": {
        "id": "31715a9d"
      },
      "source": [
        "Repeat the step above to print the R2 score instead of the mean-squared error. For this case, you can use `scoring='r2'`.\n",
        "\n",
        "<font color='red'>\n",
        "Due to the similarity of this to the main part of step 5, this part is 0.5 and the main part of step 5 is 2.5 of the total 3 points for this step.\n",
        "</font>"
      ]
    },
    {
      "cell_type": "code",
      "execution_count": 4,
      "id": "83539f47",
      "metadata": {
        "id": "83539f47"
      },
      "outputs": [
        {
          "name": "stdout",
          "output_type": "stream",
          "text": [
            "R2 Scores\n",
            "    Training Accuracy  Validation Accuracy\n",
            "DT           0.822887             0.176210\n",
            "RF           0.881221             0.173748\n",
            "GB           0.986436             0.473701\n"
          ]
        }
      ],
      "source": [
        "# TO DO: ADD YOUR CODE HERE\n",
        "# This would be similar to the main step, the main difference is the scoring.\n",
        "\n",
        "# Results dataframe\n",
        "results = pd.DataFrame(columns=[\"Training Accuracy\", \"Validation Accuracy\"])\n",
        "\n",
        "for i in range(3):\n",
        "    cv_results = cross_validate(regression_models[i], X, y, scoring='r2', return_train_score=True, cv=5)\n",
        "    results.loc[f'{indexes[i]}'] = [cv_results['train_score'].mean(), cv_results['test_score'].mean()]\n",
        "\n",
        "print('R2 Scores')\n",
        "print(results)"
      ]
    },
    {
      "cell_type": "markdown",
      "id": "a5257a98",
      "metadata": {
        "id": "a5257a98"
      },
      "source": [
        "## Questions (6 marks)\n",
        "1. How do these results compare to the results using a linear model in the previous assignment? Use values.\n",
        "1. Out of the models you tested, which model would you select for this dataset and why?\n",
        "1. If you wanted to increase the accuracy of the tree-based models, what would you do? Provide two suggestions."
      ]
    },
    {
      "cell_type": "markdown",
      "id": "2PRnpiFjVDzv",
      "metadata": {
        "id": "2PRnpiFjVDzv"
      },
      "source": [
        "### MSE \n",
        "| Model | Training Accuracy | Validation Accuracy |\n",
        "|-------|-------------------|---------------------|\n",
        "| DT    | 47.918561         | 163.087775          |\n",
        "| RF    | 32.055432         | 156.404972          |\n",
        "| GB    | 3.739270          | 99.360259           |\n",
        "| LR    | 110.345501        | 95.635335           |\n",
        "\n",
        "\n",
        "### R2 Scores\n",
        "| Model | Training Accuracy | Validation Accuracy |\n",
        "|-------|-------------------|---------------------|\n",
        "| DT    | 0.822887          | 0.176210            |\n",
        "| RF    | 0.881221          | 0.173748            |\n",
        "| GB    | 0.986436          | 0.473701            |\n",
        "| LR    | 0.609071          | 0.636898            |\n",
        "\n",
        "\n",
        "<font color='Green'><b>ANSWERS HERE</b></font>\n",
        "\n",
        "1. For the non-linear regression models, it did significantly well on the training accuracy for both the MSE and the R2 score. But when it comes to the validation accuracy, the linear regression model outperformed the non-linear models. Below are the rankings of the models for each metric...\n",
        "    \n",
        "    (Lower is Better)\n",
        "    - **Training Accuracy for MSE:** GB:3.74 > RF:32.06 > DT:47.92 > LR:110.35\n",
        "    - **Validation Accuracy for MSE:** LR:95.64 > GB:99.36 > RF:156.40 > DT:163.09\n",
        "\n",
        "    (Higher is Better)\n",
        "    - **Training Accuracy for R2 Score:** GB:0.98 >  RF:0.88 > DT:0.82 > LR:0.60\n",
        "    - **Validation Accuracy for R2 Score:** LR:0.63 > GB:0.47 > DT:0.176 > RF:0.173\n",
        "\n",
        "2. I would choose between either the linear regression model or the gradient boosting machines model as they produced far better results than the other two non-linear models. But if I had to pick one then I am leaning more towards the linear regression model because of its higher validation accuracy, but also because of how little difference there is in its training and validation accuracy. Unlike Gradient Boosting, the linear regression model is much more consistent in understanding its data.\n",
        "\n",
        "3. Suggestions to improve non-linear models:\n",
        "    - There seems to be an issue in overfitting as the training accuracy is much better than its validation accuracy. I would try to simplify the tree by using a smaller max_depth.\n",
        "    - Perhaps tune more parameters in the cross_validation() function, in particular it's 'cv' parameter and find an optimal value."
      ]
    },
    {
      "cell_type": "markdown",
      "id": "37b238f4",
      "metadata": {
        "id": "37b238f4"
      },
      "source": [
        "## Process Description (4 marks)\n",
        "Please describe the process you used to create your code. Cite any websites or generative AI tools used. You can use the following questions as guidance:\n",
        "1. Where did you source your code?\n",
        "1. In what order did you complete the steps?\n",
        "1. If you used generative AI, what prompts did you use? Did you need to modify the code at all? Why or why not?\n",
        "1. Did you have any challenges? If yes, what were they? If not, what helped you to be successful?"
      ]
    },
    {
      "cell_type": "markdown",
      "id": "93097bfe",
      "metadata": {
        "id": "93097bfe"
      },
      "source": [
        "<font color='Green'><b>DESCRIBE YOUR PROCESS HERE</b></font>\n",
        "\n",
        "1. I refered to the lecture slides on Non-Linear Models, I also refered to my previous assignment\n",
        "\n",
        "2. I followed the steps ordered in the notebook\n",
        "\n",
        "3. I asked ChatGPT how to use cross_validate() function worked, mainly what parameters it takes in and what it outputs.\n",
        "\n",
        "4. Only issue I ran into is how cross_validate() worked, I thought I had to split the dataset at first, but after reading up more on it I began to understand how it worked."
      ]
    },
    {
      "cell_type": "markdown",
      "id": "f7c6de86",
      "metadata": {
        "id": "f7c6de86"
      },
      "source": [
        "# **Part 2: Classification (17.5 marks)**\n",
        "\n",
        "You have been asked to develop code that can help the user classify different wine samples. Following the machine learning workflow described in class, write the relevant code in each of the steps below:"
      ]
    },
    {
      "cell_type": "markdown",
      "id": "5f9d33a8",
      "metadata": {
        "id": "5f9d33a8"
      },
      "source": [
        "## **Step 1:** Data Input (2 marks)\n",
        "\n",
        "The data used for this task can be downloaded from UCI: https://archive.ics.uci.edu/dataset/109/wine\n",
        "\n",
        "Use the pandas library to load the dataset. You must define the column headers if they are not included in the dataset\n",
        "\n",
        "You will need to split the dataset into feature matrix `X` and target vector `y`. Which column represents the target vector?\n",
        "\n",
        "Print the size and type of `X` and `y`"
      ]
    },
    {
      "cell_type": "code",
      "execution_count": 5,
      "id": "33583c67",
      "metadata": {
        "id": "33583c67"
      },
      "outputs": [
        {
          "name": "stdout",
          "output_type": "stream",
          "text": [
            "Type of X: <class 'pandas.core.frame.DataFrame'> | Size of X: (178, 13)\n",
            "Type of y: <class 'pandas.core.frame.DataFrame'> | Size of y: (178, 1)\n",
            "\n",
            "I can also convert the target vector into a series instead of a frame by extracting the \"class\" column...\n",
            "Type of y: <class 'pandas.core.series.Series'> | Size of y: (178,) (after extraction)\n"
          ]
        }
      ],
      "source": [
        "# TO DO: Import wine dataset\n",
        "\n",
        "# Note to TA: I followed the instructions from the \"Import in Python\" button from the url\n",
        "# I had to pip install ucimlrepo\n",
        "from ucimlrepo import fetch_ucirepo \n",
        "  \n",
        "# fetch dataset \n",
        "wine = fetch_ucirepo(id=109) \n",
        "\n",
        "# The full/original dataset as pandas dataframe\n",
        "wine_df = wine.data.original\n",
        "\n",
        "# data (as pandas dataframes) \n",
        "X = wine.data.features \n",
        "y = wine.data.targets \n",
        "\n",
        "print(f'Type of X: {type(X)} | Size of X: {X.shape}')\n",
        "print(f'Type of y: {type(y)} | Size of y: {y.shape}')\n",
        "\n",
        "# Note I can extract the targets in y and turn the dataframe into a series\n",
        "print('\\nI can also convert the target vector into a series instead of a frame by extracting the \"class\" column...')\n",
        "y = y['class']\n",
        "print(f'Type of y: {type(y)} | Size of y: {y.shape} (after extraction)')\n"
      ]
    },
    {
      "cell_type": "markdown",
      "id": "156db208",
      "metadata": {
        "id": "156db208"
      },
      "source": [
        "## **Step 2:** Data Processing (1.5 marks)"
      ]
    },
    {
      "cell_type": "markdown",
      "id": "a28af110",
      "metadata": {
        "id": "a28af110"
      },
      "source": [
        "Print the first five rows of the dataset to inspect:"
      ]
    },
    {
      "cell_type": "code",
      "execution_count": 6,
      "id": "ea266921",
      "metadata": {
        "id": "ea266921"
      },
      "outputs": [
        {
          "name": "stdout",
          "output_type": "stream",
          "text": [
            "   Alcohol  Malicacid   Ash  Alcalinity_of_ash  Magnesium  Total_phenols  \\\n",
            "0    14.23       1.71  2.43               15.6        127           2.80   \n",
            "1    13.20       1.78  2.14               11.2        100           2.65   \n",
            "2    13.16       2.36  2.67               18.6        101           2.80   \n",
            "3    14.37       1.95  2.50               16.8        113           3.85   \n",
            "4    13.24       2.59  2.87               21.0        118           2.80   \n",
            "\n",
            "   Flavanoids  Nonflavanoid_phenols  Proanthocyanins  Color_intensity   Hue  \\\n",
            "0        3.06                  0.28             2.29             5.64  1.04   \n",
            "1        2.76                  0.26             1.28             4.38  1.05   \n",
            "2        3.24                  0.30             2.81             5.68  1.03   \n",
            "3        3.49                  0.24             2.18             7.80  0.86   \n",
            "4        2.69                  0.39             1.82             4.32  1.04   \n",
            "\n",
            "   0D280_0D315_of_diluted_wines  Proline  class  \n",
            "0                          3.92     1065      1  \n",
            "1                          3.40     1050      1  \n",
            "2                          3.17     1185      1  \n",
            "3                          3.45     1480      1  \n",
            "4                          2.93      735      1  \n"
          ]
        }
      ],
      "source": [
        "# TO DO: ADD YOUR CODE HERE\n",
        "print(wine_df.head())"
      ]
    },
    {
      "cell_type": "markdown",
      "id": "834fc8fe",
      "metadata": {
        "id": "834fc8fe"
      },
      "source": [
        "Check to see if there are any missing values in the dataset. If necessary, select an appropriate method to fill-in the missing values"
      ]
    },
    {
      "cell_type": "code",
      "execution_count": 7,
      "id": "97c6e9dc",
      "metadata": {
        "id": "97c6e9dc"
      },
      "outputs": [
        {
          "name": "stdout",
          "output_type": "stream",
          "text": [
            "There are no missing values\n"
          ]
        }
      ],
      "source": [
        "# TO DO: ADD YOUR CODE HERE\n",
        "missing_values = wine_df.isna().any()\n",
        "if missing_values.any():\n",
        "    print('Missing values...')\n",
        "    print(missing_values[missing_values].index)\n",
        "    wine_df.fillna(method='ffill', inplace=True)\n",
        "    X = wine_df.drop(columns=['class']) # Feature matrix\n",
        "    y = wine_df['class'] # Target vector\n",
        "else:\n",
        "    print('There are no missing values')"
      ]
    },
    {
      "cell_type": "markdown",
      "id": "070956af",
      "metadata": {
        "id": "070956af"
      },
      "source": [
        "How many samples do we have of each type of wine?"
      ]
    },
    {
      "cell_type": "code",
      "execution_count": 8,
      "id": "b37a6fd9",
      "metadata": {
        "id": "b37a6fd9"
      },
      "outputs": [
        {
          "name": "stdout",
          "output_type": "stream",
          "text": [
            "Sample count for each class of wine:\n",
            "\n",
            "class\n",
            "1    59\n",
            "2    71\n",
            "3    48\n",
            "Name: count, dtype: int64\n"
          ]
        }
      ],
      "source": [
        "# TO DO: ADD YOUR CODE HERE\n",
        "sample_count = y.value_counts().sort_index()\n",
        "print(\"Sample count for each class of wine:\\n\")\n",
        "print(sample_count)"
      ]
    },
    {
      "cell_type": "markdown",
      "id": "70e6c46f",
      "metadata": {
        "id": "70e6c46f"
      },
      "source": [
        "## **Step 3:** Implement Machine Learning Model\n",
        "\n",
        "1. Import `SVC` and `DecisionTreeClassifier` from sklearn\n",
        "2. Instantiate models as `SVC()` and `DecisionTreeClassifier(max_depth = 3)`\n",
        "3. Implement the machine learning model with `X` and `y`"
      ]
    },
    {
      "cell_type": "markdown",
      "id": "0870b0d2",
      "metadata": {
        "id": "0870b0d2"
      },
      "source": [
        "## **Step 4:** Validate Model\n",
        "\n",
        "Calculate the average training and validation accuracy using `cross_validate` for the two different models listed in Step 3. For this case, use `scoring='accuracy'`"
      ]
    },
    {
      "cell_type": "markdown",
      "id": "bb0bbd83",
      "metadata": {
        "id": "bb0bbd83"
      },
      "source": [
        "## **Step 5:** Visualize Results (4 marks)\n",
        "\n",
        "<font color='red'>\n",
        "There is no individual mark for Steps 3 and 4 and those grades are included within the four points.\n",
        "\n",
        "</font>\n",
        "\n",
        "### **Step 5.1:** Compare Models (2 out of total 4 marks)\n",
        "1. Create a pandas DataFrame `results` with columns: Training accuracy and Validation accuracy\n",
        "2. Add the data size, training and validation accuracy for each dataset to the `results` DataFrame\n",
        "3. Print `results`"
      ]
    },
    {
      "cell_type": "code",
      "execution_count": 9,
      "id": "be4b5c0a",
      "metadata": {
        "id": "be4b5c0a"
      },
      "outputs": [
        {
          "name": "stdout",
          "output_type": "stream",
          "text": [
            "     Training Accuracy  Validation Accuracy\n",
            "DTC           0.974756             0.876349\n",
            "SVC           0.703743             0.663492\n"
          ]
        }
      ],
      "source": [
        "# TO DO: ADD YOUR CODE HERE FOR STEPS 3-5\n",
        "# Note: for any random state parameters, you can use random_state = 0\n",
        "# HINT: USING A LOOP TO STORE THE DATA IN YOUR RESULTS DATAFRAME WILL BE MORE EFFICIENT\n",
        "\n",
        "# Imports\n",
        "from sklearn.tree import DecisionTreeClassifier\n",
        "from sklearn.svm import SVC\n",
        "\n",
        "# Models\n",
        "dtc = DecisionTreeClassifier(max_depth=3)\n",
        "svc = SVC()\n",
        "\n",
        "# Setup code for loop\n",
        "models = [dtc, svc]\n",
        "indexes = [\"DTC\", \"SVC\"]\n",
        "\n",
        "# Results dataframe\n",
        "results = pd.DataFrame(columns=[\"Training Accuracy\", \"Validation Accuracy\"])\n",
        "\n",
        "# Loop\n",
        "for i in range(2):\n",
        "    cv_results = cross_validate(models[i], X, y, scoring='accuracy', return_train_score=True, cv=5)\n",
        "    results.loc[f'{indexes[i]}'] = [cv_results['train_score'].mean(), cv_results['test_score'].mean()]\n",
        "    \n",
        "print(results)"
      ]
    },
    {
      "cell_type": "markdown",
      "id": "f2e17878",
      "metadata": {
        "id": "f2e17878"
      },
      "source": [
        "### **Step 5.2:** Visualize Classification Errors  (2 out of total 4 marks)\n",
        "Which method gave the highest accuracy? Use this method to print the confusion matrix and classification report:"
      ]
    },
    {
      "cell_type": "code",
      "execution_count": 10,
      "id": "44b091a4",
      "metadata": {
        "id": "44b091a4"
      },
      "outputs": [],
      "source": [
        "# TO DO: Implement best model\n",
        "# Decision Tree Classifier is the better model\n",
        "\n",
        "# Imports\n",
        "from sklearn.metrics import confusion_matrix\n",
        "\n",
        "# Split dataset\n",
        "X_train, X_test, y_train, y_test = train_test_split(X, y, test_size=0.2, random_state=0)\n",
        "\n",
        "# Train the model\n",
        "dtc.fit(X_train, y_train)\n",
        "\n",
        "# Predictions\n",
        "dtc_predictions = dtc.predict(X_test)\n",
        "\n",
        "# Confusion matrix\n",
        "cm = confusion_matrix(y_test, dtc_predictions)"
      ]
    },
    {
      "cell_type": "code",
      "execution_count": 11,
      "id": "09d21b59",
      "metadata": {
        "id": "09d21b59"
      },
      "outputs": [
        {
          "data": {
            "image/png": "[encoded data removed]",
            "text/plain": [
              "<Figure size 800x600 with 2 Axes>"
            ]
          },
          "metadata": {},
          "output_type": "display_data"
        }
      ],
      "source": [
        "# TO DO: Print confusion matrix using a heatmap\n",
        "plt.figure(figsize=(8, 6))\n",
        "sns.heatmap(cm, annot=True, cmap='icefire', fmt='g', xticklabels=y.unique(), yticklabels=y.unique())\n",
        "plt.title('Confusion Matrix')\n",
        "plt.xlabel('Predicted Class')\n",
        "plt.ylabel('True Class')\n",
        "plt.show()"
      ]
    },
    {
      "cell_type": "code",
      "execution_count": 12,
      "id": "5ef95947",
      "metadata": {
        "id": "5ef95947"
      },
      "outputs": [
        {
          "name": "stdout",
          "output_type": "stream",
          "text": [
            "Classification Report:\n",
            "              precision    recall  f1-score   support\n",
            "\n",
            "           1       0.93      1.00      0.97        14\n",
            "           2       1.00      0.94      0.97        16\n",
            "           3       1.00      1.00      1.00         6\n",
            "\n",
            "    accuracy                           0.97        36\n",
            "   macro avg       0.98      0.98      0.98        36\n",
            "weighted avg       0.97      0.97      0.97        36\n",
            "\n"
          ]
        }
      ],
      "source": [
        "# TO DO: Print classification report\n",
        "\n",
        "# Imports\n",
        "from sklearn.metrics import classification_report\n",
        "\n",
        "# Function call\n",
        "report = classification_report(y_test, dtc_predictions)\n",
        "\n",
        "# Print report\n",
        "print(\"Classification Report:\")\n",
        "print(report)"
      ]
    },
    {
      "cell_type": "markdown",
      "id": "bf319621",
      "metadata": {
        "id": "bf319621"
      },
      "source": [
        "## Questions (6 marks)\n",
        "1. How do the training and validation accuracy change depending on the method used? Explain with values.\n",
        "1. What are two reasons why the support vector machines model did not work as well as the tree-based model?\n",
        "1. How many samples were incorrectly classified in step 5.2?\n",
        "1. In this case, is maximizing precision or recall more important? Why?"
      ]
    },
    {
      "cell_type": "markdown",
      "id": "1FQstcwnXXng",
      "metadata": {
        "id": "1FQstcwnXXng"
      },
      "source": [
        "<font color='Green'><b>YOUR ANSWERS HERE</b></font>\n",
        "\n",
        "\n",
        "1. The accuracy for Support Vector Classifier was generally much lower than the Decision Tree Classifier for both training and validation. DTC had a training accuracy of 0.97 compared to SVC's 0.70, and DTC's validation accuracy was 0.87 vs SVC's 0.66. About 0.2 difference for both accuracies.\n",
        "\n",
        "2. The SVC parameters were left default, the lectures stated that the choice of kernel is very important when it comes to SVMs. Changing this to a different one might produce better results.\n",
        "\n",
        "3. Only one sample was misclassified. It misclassified a class 2 instance.\n",
        "\n",
        "4. In this case, I would choose recall as I want to show how well the DTC model did in predicting true positive instances, since the DTC model did so well at it."
      ]
    },
    {
      "cell_type": "markdown",
      "id": "664ff8ae",
      "metadata": {
        "id": "664ff8ae"
      },
      "source": [
        "## Process Description (4 marks)\n",
        "Please describe the process you used to create your code. Cite any websites or generative AI tools used. You can use the following questions as guidance:\n",
        "1. Where did you source your code?\n",
        "1. In what order did you complete the steps?\n",
        "1. If you used generative AI, what prompts did you use? Did you need to modify the code at all? Why or why not?\n",
        "1. Did you have any challenges? If yes, what were they? If not, what helped you to be successful?"
      ]
    },
    {
      "cell_type": "markdown",
      "id": "d0e837da",
      "metadata": {
        "id": "d0e837da"
      },
      "source": [
        "<font color='Green'><b>DESCRIBE YOUR PROCESS HERE</b></font>\n",
        "1. I refered to both the linear model and non-linear model lecture slides. I also refered to lab 4 assignment.\n",
        "\n",
        "2. I followed the order of the notebook.\n",
        "\n",
        "3. I asked ChatGPT on how to use the confusion_matrix() function and the SVC() function. I also asked it how to generate heatmaps using seaborn.\n",
        "\n",
        "4. Not many issues in this part aside from generating the heatmap using seaborn, detailed explanation of its paramaters using generative AI helped quite a bit."
      ]
    },
    {
      "cell_type": "markdown",
      "id": "4cd7358d",
      "metadata": {
        "id": "4cd7358d"
      },
      "source": [
        "# **Part 3: Observations/Interpretation (3 marks)**\n",
        "\n",
        "Describe any pattern you see in the results. Relate your findings to what we discussed during lectures. Include data to justify your findings."
      ]
    },
    {
      "cell_type": "markdown",
      "id": "F3ifv218XL62",
      "metadata": {
        "id": "F3ifv218XL62"
      },
      "source": [
        "<font color='Green'><b>\n",
        "ADD YOUR FINDINGS HERE\n",
        "</b></font>\n",
        "\n",
        "In the lectures, specifically the non-linear model lectures, they stated that the main drawback with non-linear models is that they tend to overfit the training data. This is proven in part 1 as the non-linear model overfits it's training data. They also stated that its hyperparameters can change its performance greatly if tuned correctly.\n",
        "\n",
        "Another observation I made is how important preprocessing is for SVMs. I noticed that the 'class' feature in the datasets documentation was labeled as categorical, if it wasnt then I would have had to use an encoder."
      ]
    },
    {
      "cell_type": "markdown",
      "id": "cd97b6ac",
      "metadata": {
        "id": "cd97b6ac"
      },
      "source": [
        "## **Part 4:** Reflection (2 marks)\n",
        "Include a sentence or two about:\n",
        "- what you liked or disliked,\n",
        "- found interesting, confusing, challangeing, motivating\n",
        "while working on this assignment."
      ]
    },
    {
      "cell_type": "markdown",
      "id": "tDFYc89YXQGJ",
      "metadata": {
        "id": "tDFYc89YXQGJ"
      },
      "source": [
        "<font color='Green'><b>\n",
        "ADD YOUR THOUGHTS HERE\n",
        "</b></font>\n",
        "\n",
        "I really liked how we compared the performance of non-linear models to linear models from the previous assignment, really makes it go full circle. Not much to dislike in this lab as it was a lot more straightforward compared to the previous one."
      ]
    },
    {
      "cell_type": "markdown",
      "id": "fa21e53b",
      "metadata": {
        "id": "fa21e53b"
      },
      "source": [
        "## **Part 5:** Bonus Question (3 marks)\n",
        "\n",
        "Repeat Part 2 and compare the support vector machines model used to `LinearSVC(max_iter=5000)`. Does using `LinearSVC` improve the results? Why or why not?\n",
        "\n",
        "Is `LinearSVC` a good fit for this dataset? Why or why not?"
      ]
    },
    {
      "cell_type": "code",
      "execution_count": 13,
      "id": "30fea72e",
      "metadata": {
        "id": "30fea72e"
      },
      "outputs": [
        {
          "name": "stdout",
          "output_type": "stream",
          "text": [
            "SVC Classification Report:\n",
            "              precision    recall  f1-score   support\n",
            "\n",
            "           1       1.00      0.93      0.96        14\n",
            "           2       0.80      0.75      0.77        16\n",
            "           3       0.38      0.50      0.43         6\n",
            "\n",
            "    accuracy                           0.78        36\n",
            "   macro avg       0.72      0.73      0.72        36\n",
            "weighted avg       0.81      0.78      0.79        36\n",
            "\n",
            "Linear SVC Classification Report:\n",
            "              precision    recall  f1-score   support\n",
            "\n",
            "           1       1.00      0.86      0.92        14\n",
            "           2       0.89      1.00      0.94        16\n",
            "           3       1.00      1.00      1.00         6\n",
            "\n",
            "    accuracy                           0.94        36\n",
            "   macro avg       0.96      0.95      0.95        36\n",
            "weighted avg       0.95      0.94      0.94        36\n",
            "\n"
          ]
        },
        {
          "name": "stderr",
          "output_type": "stream",
          "text": [
            "c:\\Users\\Macante\\Desktop\\444Assignments\\.venv\\Lib\\site-packages\\sklearn\\svm\\_classes.py:31: FutureWarning: The default value of `dual` will change from `True` to `'auto'` in 1.5. Set the value of `dual` explicitly to suppress the warning.\n",
            "  warnings.warn(\n",
            "c:\\Users\\Macante\\Desktop\\444Assignments\\.venv\\Lib\\site-packages\\sklearn\\svm\\_base.py:1237: ConvergenceWarning: Liblinear failed to converge, increase the number of iterations.\n",
            "  warnings.warn(\n"
          ]
        },
        {
          "data": {
            "image/png": "[encoded data removed]",
            "text/plain": [
              "<Figure size 800x600 with 2 Axes>"
            ]
          },
          "metadata": {},
          "output_type": "display_data"
        },
        {
          "data": {
            "image/png": "[encoded data removed]",
            "text/plain": [
              "<Figure size 800x600 with 2 Axes>"
            ]
          },
          "metadata": {},
          "output_type": "display_data"
        }
      ],
      "source": [
        "# TO DO: ADD YOUR CODE HERE\n",
        "# imports\n",
        "from sklearn.svm import LinearSVC\n",
        "\n",
        "# Split dataset\n",
        "X_train, X_test, y_train, y_test = train_test_split(X, y, test_size=0.2, random_state=0)\n",
        "\n",
        "# Instantiate model\n",
        "svc = SVC()\n",
        "linear_svc = LinearSVC(max_iter=5000)\n",
        "\n",
        "# Train the model\n",
        "svc.fit(X_train, y_train)\n",
        "linear_svc.fit(X_train, y_train)\n",
        "\n",
        "# Predictions\n",
        "svc_pred = svc.predict(X_test)\n",
        "linear_svc_pred = linear_svc.predict(X_test)\n",
        "\n",
        "# Classification reports\n",
        "svc_report = classification_report(y_test, svc_pred)\n",
        "linear_svc_report = classification_report(y_test, linear_svc_pred)\n",
        "\n",
        "# Print report\n",
        "print(\"SVC Classification Report:\")\n",
        "print(svc_report)\n",
        "\n",
        "print(\"Linear SVC Classification Report:\")\n",
        "print(linear_svc_report)\n",
        "\n",
        "# Confusion matrix\n",
        "cm = confusion_matrix(y_test, svc_pred)\n",
        "cm_linear = confusion_matrix(y_test, linear_svc_pred)\n",
        "\n",
        "# SVC heatmap\n",
        "plt.figure(figsize=(8, 6))\n",
        "sns.heatmap(cm, annot=True, cmap='icefire', fmt='g', xticklabels=y.unique(), yticklabels=y.unique())\n",
        "plt.title('SVC Confusion Matrix')\n",
        "plt.xlabel('Predicted Class')\n",
        "plt.ylabel('True Class')\n",
        "plt.show()\n",
        "\n",
        "# Linear SVC heatmap\n",
        "plt.figure(figsize=(8, 6))\n",
        "sns.heatmap(cm_linear, annot=True, cmap='icefire', fmt='g', xticklabels=y.unique(), yticklabels=y.unique())\n",
        "plt.title('Linear SVC Confusion Matrix')\n",
        "plt.xlabel('Predicted Class')\n",
        "plt.ylabel('True Class')\n",
        "plt.show()\n",
        "\n",
        "\n"
      ]
    },
    {
      "cell_type": "markdown",
      "id": "aabc68a4",
      "metadata": {
        "id": "aabc68a4"
      },
      "source": [
        "*ANSWER HERE*\n",
        "1. The linear SVC does improve the results, just looking at the heatmap, the linear SVC made more correct predictions, but only for class 3, this may be because class 3 instances have some sort of linear relationship with its features so it could perform better.\n",
        "\n",
        "2. While its not bad, it is not as good as Decision Tree Classifier. This may be because the dataset has non linear relationships between features so a non-linear model may perform better than a non linear one."
      ]
    }
  ],
  "metadata": {
    "colab": {
      "provenance": []
    },
    "kernelspec": {
      "display_name": "Python 3 (ipykernel)",
      "language": "python",
      "name": "python3"
    },
    "language_info": {
      "codemirror_mode": {
        "name": "ipython",
        "version": 3
      },
      "file_extension": ".py",
      "mimetype": "text/x-python",
      "name": "python",
      "nbconvert_exporter": "python",
      "pygments_lexer": "ipython3",
      "version": "3.12.0"
    }
  },
  "nbformat": 4,
  "nbformat_minor": 5
}
